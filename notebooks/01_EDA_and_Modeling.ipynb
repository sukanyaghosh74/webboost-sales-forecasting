{
 "cells": [
  {
   "cell_type": "code",
   "source": [
    "import pandas as pd\n",
    "import matplotlib.pyplot as plt\n",
    "import seaborn as sns\n",
    "from sklearn.linear_model import LinearRegression\n",
    "from sklearn.model_selection import train_test_split\n",
    "from sklearn.metrics import mean_squared_error\n\n",
    "df = pd.read_csv('../data/sales_data.csv')\n",
    "df['Month_Num'] = pd.to_datetime(df['Month']).dt.month\n",
    "sns.lineplot(x='Month', y='Sales', data=df)\n",
    "plt.title('Monthly Sales Trend')\n",
    "plt.savefig('../outputs/forecast_graph.png')\n",
    "X = df[['Month_Num']]\n",
    "y = df['Sales']\n",
    "X_train, X_test, y_train, y_test = train_test_split(X, y)\n",
    "model = LinearRegression().fit(X_train, y_train)\n",
    "preds = model.predict(X_test)\n",
    "print('MSE:', mean_squared_error(y_test, preds))"
   ],
   "metadata": {},
   "execution_count": null,
   "outputs": []
  }
 ],
 "metadata": {},
 "nbformat": 4,
 "nbformat_minor": 2
}
